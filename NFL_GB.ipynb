{
 "cells": [
  {
   "cell_type": "code",
   "execution_count": 9,
   "id": "34e21fa4",
   "metadata": {},
   "outputs": [],
   "source": [
    "import pandas as pd\n",
    "import numpy as np\n",
    "import matplotlib.pyplot as plt\n",
    "from sklearn.model_selection import train_test_split\n",
    "from sklearn.metrics import mean_squared_error, mean_absolute_error, accuracy_score, classification_report\n",
    "from sklearn.ensemble import GradientBoostingRegressor\n",
    "from sklearn import preprocessing"
   ]
  },
  {
   "cell_type": "code",
   "execution_count": 3,
   "id": "3625d40f",
   "metadata": {},
   "outputs": [],
   "source": [
    "Kansas_data = pd.read_csv('Kansas.csv')"
   ]
  },
  {
   "cell_type": "code",
   "execution_count": 4,
   "id": "92d9f55a",
   "metadata": {},
   "outputs": [],
   "source": [
    "Phila_data = pd.read_csv('Philadelphia.csv')"
   ]
  },
  {
   "cell_type": "code",
   "execution_count": 5,
   "id": "5381e388",
   "metadata": {},
   "outputs": [],
   "source": [
    "ks_data = Kansas_data\n",
    "ks_data = ks_data.fillna(0)\n",
    "ks_model_data = ks_data[['Tm_Score', 'O_1stD', 'O_TotYd', 'O_PassY', 'O_RushY', 'O_TO', 'D_1stD', 'D_TotYd',\n",
    "                         'D_PassY', 'D_RushY', 'D_TO']]"
   ]
  },
  {
   "cell_type": "code",
   "execution_count": 6,
   "id": "e444bc98",
   "metadata": {},
   "outputs": [],
   "source": [
    "season_stats = ['O_1stD', 'O_TotYd', 'O_PassY', 'O_RushY', 'O_TO','D_1stD', 'D_TotYd','D_PassY', 'D_RushY', 'D_TO']"
   ]
  },
  {
   "cell_type": "code",
   "execution_count": 7,
   "id": "fa86c0db",
   "metadata": {},
   "outputs": [
    {
     "name": "stderr",
     "output_type": "stream",
     "text": [
      "<ipython-input-7-44073cdc608b>:1: SettingWithCopyWarning: \n",
      "A value is trying to be set on a copy of a slice from a DataFrame.\n",
      "Try using .loc[row_indexer,col_indexer] = value instead\n",
      "\n",
      "See the caveats in the documentation: https://pandas.pydata.org/pandas-docs/stable/user_guide/indexing.html#returning-a-view-versus-a-copy\n",
      "  ks_model_data[season_stats] = ks_model_data[season_stats] * 17\n"
     ]
    }
   ],
   "source": [
    "ks_model_data[season_stats] = ks_model_data[season_stats] * 17"
   ]
  },
  {
   "cell_type": "code",
   "execution_count": 10,
   "id": "6b5a8e91",
   "metadata": {},
   "outputs": [
    {
     "name": "stderr",
     "output_type": "stream",
     "text": [
      "<ipython-input-10-5a65da8bc9f5>:1: SettingWithCopyWarning: \n",
      "A value is trying to be set on a copy of a slice from a DataFrame.\n",
      "Try using .loc[row_indexer,col_indexer] = value instead\n",
      "\n",
      "See the caveats in the documentation: https://pandas.pydata.org/pandas-docs/stable/user_guide/indexing.html#returning-a-view-versus-a-copy\n",
      "  ks_model_data[season_stats] = preprocessing.normalize(ks_model_data[season_stats])\n"
     ]
    }
   ],
   "source": [
    "ks_model_data[season_stats] = preprocessing.normalize(ks_model_data[season_stats])"
   ]
  },
  {
   "cell_type": "code",
   "execution_count": 11,
   "id": "5bd6e768",
   "metadata": {},
   "outputs": [],
   "source": [
    "X = ks_model_data.drop('Tm_Score', axis=1)\n",
    "y = ks_model_data['Tm_Score']\n",
    "X_train, X_test, y_train, y_test = train_test_split(X, y, test_size = 0.2)"
   ]
  },
  {
   "cell_type": "code",
   "execution_count": 12,
   "id": "6bf66aa7",
   "metadata": {},
   "outputs": [],
   "source": [
    "phi_data = Phila_data\n",
    "phi_data = phi_data.fillna(0)\n",
    "phi_model_data = phi_data[['Tm_Score', 'O_1stD', 'O_TotYd', 'O_PassY', 'O_RushY', 'O_TO','D_1stD', 'D_TotYd',\n",
    "                           'D_PassY', 'D_RushY', 'D_TO']]"
   ]
  },
  {
   "cell_type": "code",
   "execution_count": 13,
   "id": "a71a111f",
   "metadata": {},
   "outputs": [
    {
     "name": "stderr",
     "output_type": "stream",
     "text": [
      "<ipython-input-13-062149845cbe>:1: SettingWithCopyWarning: \n",
      "A value is trying to be set on a copy of a slice from a DataFrame.\n",
      "Try using .loc[row_indexer,col_indexer] = value instead\n",
      "\n",
      "See the caveats in the documentation: https://pandas.pydata.org/pandas-docs/stable/user_guide/indexing.html#returning-a-view-versus-a-copy\n",
      "  phi_model_data[season_stats] = phi_model_data[season_stats] * 17\n"
     ]
    }
   ],
   "source": [
    "phi_model_data[season_stats] = phi_model_data[season_stats] * 17"
   ]
  },
  {
   "cell_type": "code",
   "execution_count": 14,
   "id": "ccd4ccf1",
   "metadata": {},
   "outputs": [
    {
     "name": "stderr",
     "output_type": "stream",
     "text": [
      "<ipython-input-14-9ab0af9645e7>:1: SettingWithCopyWarning: \n",
      "A value is trying to be set on a copy of a slice from a DataFrame.\n",
      "Try using .loc[row_indexer,col_indexer] = value instead\n",
      "\n",
      "See the caveats in the documentation: https://pandas.pydata.org/pandas-docs/stable/user_guide/indexing.html#returning-a-view-versus-a-copy\n",
      "  phi_model_data[season_stats] = preprocessing.normalize(phi_model_data[season_stats])\n"
     ]
    }
   ],
   "source": [
    "phi_model_data[season_stats] = preprocessing.normalize(phi_model_data[season_stats])"
   ]
  },
  {
   "cell_type": "code",
   "execution_count": 15,
   "id": "e82c5e1f",
   "metadata": {},
   "outputs": [],
   "source": [
    "X1 = phi_model_data.drop('Tm_Score', axis=1)\n",
    "y1 = phi_model_data['Tm_Score']\n",
    "X1_train, X1_test, y1_train, y1_test = train_test_split(X1, y1, test_size = 0.2)"
   ]
  },
  {
   "cell_type": "code",
   "execution_count": 16,
   "id": "19ef22d8",
   "metadata": {},
   "outputs": [],
   "source": [
    "gb = GradientBoostingRegressor(n_estimators = 2000, random_state = 0)"
   ]
  },
  {
   "cell_type": "code",
   "execution_count": 17,
   "id": "55a4d6d4",
   "metadata": {},
   "outputs": [
    {
     "data": {
      "text/plain": [
       "GradientBoostingRegressor(n_estimators=2000, random_state=0)"
      ]
     },
     "execution_count": 17,
     "metadata": {},
     "output_type": "execute_result"
    }
   ],
   "source": [
    "gb.fit(X_train, y_train)"
   ]
  },
  {
   "cell_type": "code",
   "execution_count": 18,
   "id": "012334ad",
   "metadata": {},
   "outputs": [],
   "source": [
    "gb_pred = gb.predict(X_test)"
   ]
  },
  {
   "cell_type": "code",
   "execution_count": 19,
   "id": "27c4e887",
   "metadata": {},
   "outputs": [
    {
     "data": {
      "text/plain": [
       "76.14383557894473"
      ]
     },
     "execution_count": 19,
     "metadata": {},
     "output_type": "execute_result"
    }
   ],
   "source": [
    "mean_squared_error(y_test, gb_pred)"
   ]
  },
  {
   "cell_type": "code",
   "execution_count": 20,
   "id": "bdbd0e31",
   "metadata": {},
   "outputs": [
    {
     "data": {
      "text/plain": [
       "7.290890962535783"
      ]
     },
     "execution_count": 20,
     "metadata": {},
     "output_type": "execute_result"
    }
   ],
   "source": [
    "mean_absolute_error(y_test, gb_pred)"
   ]
  },
  {
   "cell_type": "code",
   "execution_count": 21,
   "id": "ff769073",
   "metadata": {},
   "outputs": [
    {
     "data": {
      "text/plain": [
       "-0.7562305253244233"
      ]
     },
     "execution_count": 21,
     "metadata": {},
     "output_type": "execute_result"
    }
   ],
   "source": [
    "gb.score(X_test, y_test)"
   ]
  },
  {
   "cell_type": "code",
   "execution_count": 22,
   "id": "145926fa",
   "metadata": {},
   "outputs": [
    {
     "data": {
      "image/png": "[encoded data removed]",
      "text/plain": [
       "<Figure size 432x288 with 1 Axes>"
      ]
     },
     "metadata": {
      "needs_background": "light"
     },
     "output_type": "display_data"
    }
   ],
   "source": [
    "x_ax = range(len(y_test))\n",
    "plt.plot(x_ax, y_test, linewidth=1, label=\"original\")\n",
    "plt.plot(x_ax, gb_pred, linewidth=1.1, label=\"predicted\")\n",
    "plt.title(\"y-test and y-predicted data\")\n",
    "plt.xlabel('X-axis')\n",
    "plt.ylabel('Y-axis')\n",
    "plt.legend(loc='best',fancybox=True, shadow=True)\n",
    "plt.grid(True)\n",
    "plt.show() "
   ]
  },
  {
   "cell_type": "code",
   "execution_count": 25,
   "id": "acd59b43",
   "metadata": {},
   "outputs": [],
   "source": [
    "kansas_test1 = pd.DataFrame(ks_model_data[0:17].mean(axis = 0))\n",
    "kansas_test2 = pd.DataFrame(ks_model_data[0:17].median(axis = 0))\n",
    "frame = [kansas_test1,kansas_test2]\n",
    "kansas_test = pd.concat(frame, axis = 1)\n",
    "kansas_test = kansas_test.mean(axis=1)\n",
    "kansas_gb = kansas_test.drop('Tm_Score')\n",
    "kansas_gb = kansas_gb.to_frame()\n",
    "kansas_gb = kansas_gb.transpose()"
   ]
  },
  {
   "cell_type": "code",
   "execution_count": 26,
   "id": "fa6ddd1e",
   "metadata": {},
   "outputs": [
    {
     "data": {
      "text/plain": [
       "array([25.75348466])"
      ]
     },
     "execution_count": 26,
     "metadata": {},
     "output_type": "execute_result"
    }
   ],
   "source": [
    "gb.predict(kansas_gb)"
   ]
  },
  {
   "cell_type": "code",
   "execution_count": 27,
   "id": "3abb7bfe",
   "metadata": {},
   "outputs": [
    {
     "data": {
      "text/plain": [
       "GradientBoostingRegressor(n_estimators=2000, random_state=0)"
      ]
     },
     "execution_count": 27,
     "metadata": {},
     "output_type": "execute_result"
    }
   ],
   "source": [
    "gb1 = GradientBoostingRegressor(n_estimators = 2000, random_state = 0)\n",
    "gb1.fit(X1_train, y1_train)"
   ]
  },
  {
   "cell_type": "code",
   "execution_count": 28,
   "id": "2fef22e2",
   "metadata": {},
   "outputs": [],
   "source": [
    "gb1_pred = gb1.predict(X1_test)"
   ]
  },
  {
   "cell_type": "code",
   "execution_count": 29,
   "id": "81ec6d6a",
   "metadata": {},
   "outputs": [
    {
     "data": {
      "text/plain": [
       "54.00128359045058"
      ]
     },
     "execution_count": 29,
     "metadata": {},
     "output_type": "execute_result"
    }
   ],
   "source": [
    "mean_squared_error(y1_test, gb1_pred)"
   ]
  },
  {
   "cell_type": "code",
   "execution_count": 30,
   "id": "9afb1694",
   "metadata": {},
   "outputs": [
    {
     "data": {
      "text/plain": [
       "5.760685619295233"
      ]
     },
     "execution_count": 30,
     "metadata": {},
     "output_type": "execute_result"
    }
   ],
   "source": [
    "mean_absolute_error(y1_test, gb1_pred)"
   ]
  },
  {
   "cell_type": "code",
   "execution_count": 31,
   "id": "b3fde218",
   "metadata": {},
   "outputs": [
    {
     "data": {
      "text/plain": [
       "0.2571931957334498"
      ]
     },
     "execution_count": 31,
     "metadata": {},
     "output_type": "execute_result"
    }
   ],
   "source": [
    "gb1.score(X1_test, y1_test)"
   ]
  },
  {
   "cell_type": "code",
   "execution_count": 32,
   "id": "35521caa",
   "metadata": {},
   "outputs": [
    {
     "data": {
      "image/png": "[encoded data removed]",
      "text/plain": [
       "<Figure size 432x288 with 1 Axes>"
      ]
     },
     "metadata": {
      "needs_background": "light"
     },
     "output_type": "display_data"
    }
   ],
   "source": [
    "x_ax = range(len(y1_test))\n",
    "plt.plot(x_ax, y1_test, linewidth=1, label=\"original\")\n",
    "plt.plot(x_ax, gb1_pred, linewidth=1.1, label=\"predicted\")\n",
    "plt.title(\"y-test and y-predicted data\")\n",
    "plt.xlabel('X-axis')\n",
    "plt.ylabel('Y-axis')\n",
    "plt.legend(loc='best',fancybox=True, shadow=True)\n",
    "plt.grid(True)\n",
    "plt.show() "
   ]
  },
  {
   "cell_type": "code",
   "execution_count": 33,
   "id": "cc6a1db3",
   "metadata": {},
   "outputs": [],
   "source": [
    "phi_test1 = pd.DataFrame(phi_model_data[0:17].mean(axis = 0))\n",
    "phi_test2 = pd.DataFrame(phi_model_data[0:17].median(axis = 0))\n",
    "frame1 = [phi_test1,phi_test2]\n",
    "phi_test = pd.concat(frame1, axis = 1)\n",
    "phi_test = phi_test.mean(axis=1)\n",
    "phi_gb = phi_test.drop('Tm_Score')\n",
    "phi_gb = phi_gb.to_frame()\n",
    "phi_gb = phi_gb.transpose()"
   ]
  },
  {
   "cell_type": "code",
   "execution_count": 34,
   "id": "03ace406",
   "metadata": {},
   "outputs": [
    {
     "data": {
      "text/plain": [
       "array([26.68399466])"
      ]
     },
     "execution_count": 34,
     "metadata": {},
     "output_type": "execute_result"
    }
   ],
   "source": [
    "gb1.predict(phi_gb)"
   ]
  },
  {
   "cell_type": "code",
   "execution_count": null,
   "id": "fe459948",
   "metadata": {},
   "outputs": [],
   "source": []
  }
 ],
 "metadata": {
  "kernelspec": {
   "display_name": "Python 3",
   "language": "python",
   "name": "python3"
  },
  "language_info": {
   "codemirror_mode": {
    "name": "ipython",
    "version": 3
   },
   "file_extension": ".py",
   "mimetype": "text/x-python",
   "name": "python",
   "nbconvert_exporter": "python",
   "pygments_lexer": "ipython3",
   "version": "3.8.2"
  }
 },
 "nbformat": 4,
 "nbformat_minor": 5
}
