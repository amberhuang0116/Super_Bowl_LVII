{
 "cells": [
  {
   "cell_type": "markdown",
   "id": "c6244897",
   "metadata": {},
   "source": [
    "**Final Prediction at the End**"
   ]
  },
  {
   "cell_type": "code",
   "execution_count": 1,
   "id": "00eb0cea",
   "metadata": {},
   "outputs": [],
   "source": [
    "import pandas as pd\n",
    "import numpy as np\n",
    "import matplotlib.pyplot as plt\n",
    "from sklearn.model_selection import train_test_split\n",
    "from sklearn.ensemble import RandomForestRegressor\n",
    "from sklearn.metrics import mean_squared_error, mean_absolute_error, r2_score, mean_absolute_percentage_error"
   ]
  },
  {
   "cell_type": "code",
   "execution_count": 2,
   "id": "cdc1c286",
   "metadata": {},
   "outputs": [],
   "source": [
    "Kansas_data = pd.read_csv('Kansas.csv')"
   ]
  },
  {
   "cell_type": "code",
   "execution_count": 3,
   "id": "1a7cea51",
   "metadata": {},
   "outputs": [],
   "source": [
    "Phila_data = pd.read_csv('Philadelphia.csv')"
   ]
  },
  {
   "cell_type": "code",
   "execution_count": 4,
   "id": "209cceeb",
   "metadata": {},
   "outputs": [],
   "source": [
    "# Clean & Split Kansas Data"
   ]
  },
  {
   "cell_type": "code",
   "execution_count": 5,
   "id": "06c991e9",
   "metadata": {},
   "outputs": [],
   "source": [
    "ks_data = Kansas_data\n",
    "ks_data = ks_data.fillna(0)\n",
    "ks_model_data = ks_data[['Tm_Score', 'O_1stD', 'O_TotYd', 'O_PassY', 'O_RushY', 'O_TO', 'D_1stD', 'D_TotYd',\n",
    "                         'D_PassY', 'D_RushY', 'D_TO']]"
   ]
  },
  {
   "cell_type": "code",
   "execution_count": 6,
   "id": "b003ab65",
   "metadata": {},
   "outputs": [],
   "source": [
    "season_stats = ['O_1stD', 'O_TotYd', 'O_PassY', 'O_RushY', 'O_TO','D_1stD', 'D_TotYd','D_PassY', 'D_RushY', 'D_TO']"
   ]
  },
  {
   "cell_type": "code",
   "execution_count": 7,
   "id": "a332f832",
   "metadata": {},
   "outputs": [
    {
     "name": "stderr",
     "output_type": "stream",
     "text": [
      "<ipython-input-7-44073cdc608b>:1: SettingWithCopyWarning: \n",
      "A value is trying to be set on a copy of a slice from a DataFrame.\n",
      "Try using .loc[row_indexer,col_indexer] = value instead\n",
      "\n",
      "See the caveats in the documentation: https://pandas.pydata.org/pandas-docs/stable/user_guide/indexing.html#returning-a-view-versus-a-copy\n",
      "  ks_model_data[season_stats] = ks_model_data[season_stats] * 17\n"
     ]
    }
   ],
   "source": [
    "ks_model_data[season_stats] = ks_model_data[season_stats] * 17"
   ]
  },
  {
   "cell_type": "code",
   "execution_count": 8,
   "id": "75cbdd6c",
   "metadata": {},
   "outputs": [],
   "source": [
    "X = ks_model_data.drop('Tm_Score', axis=1)\n",
    "y = ks_model_data['Tm_Score']\n",
    "X_train, X_test, y_train, y_test = train_test_split(X, y, test_size = 0.3, random_state = 0)"
   ]
  },
  {
   "cell_type": "code",
   "execution_count": 9,
   "id": "8671143e",
   "metadata": {},
   "outputs": [],
   "source": [
    "# Clean & Split Philadelphia Data"
   ]
  },
  {
   "cell_type": "code",
   "execution_count": 10,
   "id": "8ea8cb73",
   "metadata": {},
   "outputs": [],
   "source": [
    "phi_data = Phila_data\n",
    "phi_data = phi_data.fillna(0)\n",
    "phi_model_data = phi_data[['Tm_Score', 'O_1stD', 'O_TotYd', 'O_PassY', 'O_RushY', 'O_TO','D_1stD', 'D_TotYd',\n",
    "                           'D_PassY', 'D_RushY', 'D_TO']]"
   ]
  },
  {
   "cell_type": "code",
   "execution_count": 11,
   "id": "e2e5a7a5",
   "metadata": {},
   "outputs": [
    {
     "name": "stderr",
     "output_type": "stream",
     "text": [
      "<ipython-input-11-062149845cbe>:1: SettingWithCopyWarning: \n",
      "A value is trying to be set on a copy of a slice from a DataFrame.\n",
      "Try using .loc[row_indexer,col_indexer] = value instead\n",
      "\n",
      "See the caveats in the documentation: https://pandas.pydata.org/pandas-docs/stable/user_guide/indexing.html#returning-a-view-versus-a-copy\n",
      "  phi_model_data[season_stats] = phi_model_data[season_stats] * 17\n"
     ]
    }
   ],
   "source": [
    "phi_model_data[season_stats] = phi_model_data[season_stats] * 17"
   ]
  },
  {
   "cell_type": "code",
   "execution_count": 12,
   "id": "d3b3cd77",
   "metadata": {},
   "outputs": [],
   "source": [
    "X1 = phi_model_data.drop('Tm_Score', axis=1)\n",
    "y1 = phi_model_data['Tm_Score']\n",
    "X1_train, X1_test, y1_train, y1_test = train_test_split(X1, y1, test_size = 0.3)"
   ]
  },
  {
   "cell_type": "code",
   "execution_count": 13,
   "id": "11cbc8cf",
   "metadata": {},
   "outputs": [],
   "source": [
    "# Prediction Set"
   ]
  },
  {
   "cell_type": "code",
   "execution_count": 14,
   "id": "da61388a",
   "metadata": {},
   "outputs": [],
   "source": [
    "kansas_test1 = pd.DataFrame(ks_model_data[0:17].mean(axis = 0))\n",
    "kansas_test2 = pd.DataFrame(ks_model_data[0:17].median(axis = 0))"
   ]
  },
  {
   "cell_type": "code",
   "execution_count": 15,
   "id": "bde919b3",
   "metadata": {},
   "outputs": [],
   "source": [
    "frame = [kansas_test1,kansas_test2]\n",
    "kansas_test = pd.concat(frame, axis = 1)"
   ]
  },
  {
   "cell_type": "code",
   "execution_count": 16,
   "id": "3d5e949c",
   "metadata": {},
   "outputs": [],
   "source": [
    "kansas_test = kansas_test.mean(axis=1)"
   ]
  },
  {
   "cell_type": "code",
   "execution_count": 17,
   "id": "4e39c215",
   "metadata": {},
   "outputs": [],
   "source": [
    "kansas = kansas_test.drop('Tm_Score')"
   ]
  },
  {
   "cell_type": "code",
   "execution_count": 18,
   "id": "4baabf73",
   "metadata": {},
   "outputs": [],
   "source": [
    "kansas = kansas.to_frame()"
   ]
  },
  {
   "cell_type": "code",
   "execution_count": 19,
   "id": "0477fd6e",
   "metadata": {},
   "outputs": [],
   "source": [
    "kansas= kansas.transpose()"
   ]
  },
  {
   "cell_type": "code",
   "execution_count": 20,
   "id": "d280626f",
   "metadata": {},
   "outputs": [],
   "source": [
    "# Predict Super Bowl Score\n",
    "phila_test1 = pd.DataFrame(phi_model_data[0:17].mean(axis = 0))\n",
    "phila_test2 = pd.DataFrame(phi_model_data[0:17].median(axis = 0))\n",
    "frame1 = [phila_test1,phila_test2]\n",
    "phila_test = pd.concat(frame1, axis = 1)\n",
    "phila_test = phila_test.mean(axis=1)\n",
    "phila = phila_test.drop('Tm_Score')\n",
    "phila = phila.to_frame()\n",
    "phila = phila.transpose()"
   ]
  },
  {
   "cell_type": "code",
   "execution_count": 21,
   "id": "76c2200c",
   "metadata": {},
   "outputs": [],
   "source": [
    "# Kansas Random Forest"
   ]
  },
  {
   "cell_type": "code",
   "execution_count": 22,
   "id": "da310b68",
   "metadata": {},
   "outputs": [
    {
     "data": {
      "text/plain": [
       "RandomForestRegressor(n_estimators=3000, random_state=0)"
      ]
     },
     "execution_count": 22,
     "metadata": {},
     "output_type": "execute_result"
    }
   ],
   "source": [
    "rf = RandomForestRegressor(n_estimators = 3000, random_state = 0)\n",
    "rf.fit(X_train, y_train)"
   ]
  },
  {
   "cell_type": "code",
   "execution_count": 23,
   "id": "77daa563",
   "metadata": {},
   "outputs": [
    {
     "data": {
      "text/plain": [
       "0.237311593776107"
      ]
     },
     "execution_count": 23,
     "metadata": {},
     "output_type": "execute_result"
    }
   ],
   "source": [
    "rf.score(X_test, y_test)"
   ]
  },
  {
   "cell_type": "code",
   "execution_count": 24,
   "id": "9a758a40",
   "metadata": {},
   "outputs": [],
   "source": [
    "rf_pred = rf.predict(X_test)"
   ]
  },
  {
   "cell_type": "code",
   "execution_count": 25,
   "id": "d442e130",
   "metadata": {},
   "outputs": [
    {
     "data": {
      "text/plain": [
       "48.69002785333333"
      ]
     },
     "execution_count": 25,
     "metadata": {},
     "output_type": "execute_result"
    }
   ],
   "source": [
    "mean_squared_error(y_test, rf_pred)"
   ]
  },
  {
   "cell_type": "code",
   "execution_count": 26,
   "id": "a25d6f51",
   "metadata": {},
   "outputs": [
    {
     "data": {
      "text/plain": [
       "5.43612"
      ]
     },
     "execution_count": 26,
     "metadata": {},
     "output_type": "execute_result"
    }
   ],
   "source": [
    "mean_absolute_error(y_test, rf_pred)"
   ]
  },
  {
   "cell_type": "code",
   "execution_count": 27,
   "id": "17e9f9b3",
   "metadata": {},
   "outputs": [
    {
     "data": {
      "image/png": "[encoded data removed]",
      "text/plain": [
       "<Figure size 432x288 with 1 Axes>"
      ]
     },
     "metadata": {
      "needs_background": "light"
     },
     "output_type": "display_data"
    }
   ],
   "source": [
    "x_ax = range(len(y_test))\n",
    "plt.plot(x_ax, y_test, linewidth=1, label=\"original\")\n",
    "plt.plot(x_ax, rf_pred, linewidth=1.1, label=\"predicted\")\n",
    "plt.title(\"y-test and y-predicted data\")\n",
    "plt.xlabel('X-axis')\n",
    "plt.ylabel('Y-axis')\n",
    "plt.legend(loc='best',fancybox=True, shadow=True)\n",
    "plt.grid(True)\n",
    "plt.show() "
   ]
  },
  {
   "cell_type": "code",
   "execution_count": 28,
   "id": "ad1c763b",
   "metadata": {},
   "outputs": [
    {
     "data": {
      "text/plain": [
       "array([27.56566667])"
      ]
     },
     "execution_count": 28,
     "metadata": {},
     "output_type": "execute_result"
    }
   ],
   "source": [
    "rf.predict(kansas)"
   ]
  },
  {
   "cell_type": "code",
   "execution_count": 29,
   "id": "225e02b5",
   "metadata": {},
   "outputs": [],
   "source": [
    "# Philadelphia Random Forest"
   ]
  },
  {
   "cell_type": "code",
   "execution_count": 30,
   "id": "60fd0d8e",
   "metadata": {},
   "outputs": [
    {
     "data": {
      "text/plain": [
       "RandomForestRegressor(n_estimators=3000, random_state=0)"
      ]
     },
     "execution_count": 30,
     "metadata": {},
     "output_type": "execute_result"
    }
   ],
   "source": [
    "rf1 = RandomForestRegressor(n_estimators = 3000, random_state = 0)\n",
    "rf1.fit(X1_train, y1_train)"
   ]
  },
  {
   "cell_type": "code",
   "execution_count": 31,
   "id": "0353d0f7",
   "metadata": {},
   "outputs": [
    {
     "data": {
      "text/plain": [
       "0.26706329355932557"
      ]
     },
     "execution_count": 31,
     "metadata": {},
     "output_type": "execute_result"
    }
   ],
   "source": [
    "rf1.score(X1_test, y1_test)"
   ]
  },
  {
   "cell_type": "code",
   "execution_count": 32,
   "id": "af3f4112",
   "metadata": {},
   "outputs": [],
   "source": [
    "rf1_pred = rf1.predict(X1_test)"
   ]
  },
  {
   "cell_type": "code",
   "execution_count": 33,
   "id": "ffa118b3",
   "metadata": {},
   "outputs": [
    {
     "data": {
      "text/plain": [
       "50.87636171555555"
      ]
     },
     "execution_count": 33,
     "metadata": {},
     "output_type": "execute_result"
    }
   ],
   "source": [
    "mean_squared_error(y1_test, rf1_pred)"
   ]
  },
  {
   "cell_type": "code",
   "execution_count": 34,
   "id": "9c36ded8",
   "metadata": {},
   "outputs": [
    {
     "data": {
      "text/plain": [
       "6.198693333333333"
      ]
     },
     "execution_count": 34,
     "metadata": {},
     "output_type": "execute_result"
    }
   ],
   "source": [
    "mean_absolute_error(y1_test, rf1_pred)"
   ]
  },
  {
   "cell_type": "code",
   "execution_count": 35,
   "id": "d3a09d21",
   "metadata": {},
   "outputs": [
    {
     "data": {
      "image/png": "[encoded data removed]",
      "text/plain": [
       "<Figure size 432x288 with 1 Axes>"
      ]
     },
     "metadata": {
      "needs_background": "light"
     },
     "output_type": "display_data"
    }
   ],
   "source": [
    "x_ax = range(len(y1_test))\n",
    "plt.plot(x_ax, y1_test, linewidth=1, label=\"original\")\n",
    "plt.plot(x_ax, rf1_pred, linewidth=1.1, label=\"predicted\")\n",
    "plt.title(\"y-test and y-predicted data\")\n",
    "plt.xlabel('X-axis')\n",
    "plt.ylabel('Y-axis')\n",
    "plt.legend(loc='best',fancybox=True, shadow=True)\n",
    "plt.grid(True)\n",
    "plt.show() "
   ]
  },
  {
   "cell_type": "code",
   "execution_count": 36,
   "id": "c19e2fda",
   "metadata": {},
   "outputs": [
    {
     "data": {
      "text/plain": [
       "array([24.4])"
      ]
     },
     "execution_count": 36,
     "metadata": {},
     "output_type": "execute_result"
    }
   ],
   "source": [
    "rf1.predict(phila)"
   ]
  },
  {
   "cell_type": "code",
   "execution_count": 37,
   "id": "f14e2a2c",
   "metadata": {},
   "outputs": [],
   "source": [
    "mse = mean_squared_error(y_test, rf_pred)\n",
    "mape = mean_absolute_percentage_error(y_test, rf_pred)"
   ]
  },
  {
   "cell_type": "code",
   "execution_count": 38,
   "id": "a9176987",
   "metadata": {},
   "outputs": [],
   "source": [
    "mse1 = mean_squared_error(y1_test, rf1_pred)\n",
    "mape1 = mean_absolute_percentage_error(y1_test, rf1_pred)"
   ]
  },
  {
   "cell_type": "code",
   "execution_count": 39,
   "id": "f314281e",
   "metadata": {},
   "outputs": [
    {
     "name": "stdout",
     "output_type": "stream",
     "text": [
      "Prediction for Kansas:  [27.56566667]\n",
      "R-squared:  0.237311593776107\n",
      "MSE:  48.69002785333333\n",
      "MAPE:  0.18742317986464951\n"
     ]
    }
   ],
   "source": [
    "print(\"Prediction for Kansas: \", rf.predict(kansas))\n",
    "print(\"R-squared: \", rf.score(X_test, y_test))\n",
    "print(\"MSE: \", mse)\n",
    "print(\"MAPE: \", mape)"
   ]
  },
  {
   "cell_type": "code",
   "execution_count": 40,
   "id": "1513a384",
   "metadata": {},
   "outputs": [
    {
     "name": "stdout",
     "output_type": "stream",
     "text": [
      "Prediction for Philadelphia:  [24.4]\n",
      "R-squared:  0.26706329355932557\n",
      "MSE:  50.87636171555555\n",
      "MAPE:  0.360047452805221\n"
     ]
    }
   ],
   "source": [
    "print(\"Prediction for Philadelphia: \", rf1.predict(phila))\n",
    "print(\"R-squared: \", rf1.score(X1_test, y1_test))\n",
    "print(\"MSE: \", mse1)\n",
    "print(\"MAPE: \", mape1)"
   ]
  },
  {
   "cell_type": "code",
   "execution_count": 41,
   "id": "7430dd87",
   "metadata": {},
   "outputs": [],
   "source": [
    "# Kansas Neural Network"
   ]
  },
  {
   "cell_type": "code",
   "execution_count": 42,
   "id": "e091bf43",
   "metadata": {},
   "outputs": [],
   "source": [
    "from sklearn.neural_network import MLPRegressor"
   ]
  },
  {
   "cell_type": "code",
   "execution_count": 43,
   "id": "4de53343",
   "metadata": {},
   "outputs": [],
   "source": [
    "mlp = MLPRegressor(max_iter = 5000, random_state = 0, solver = 'lbfgs', activation = 'identity', alpha = 1e-5)"
   ]
  },
  {
   "cell_type": "code",
   "execution_count": 44,
   "id": "f62ce689",
   "metadata": {},
   "outputs": [
    {
     "data": {
      "text/plain": [
       "MLPRegressor(activation='identity', alpha=1e-05, max_iter=5000, random_state=0,\n",
       "             solver='lbfgs')"
      ]
     },
     "execution_count": 44,
     "metadata": {},
     "output_type": "execute_result"
    }
   ],
   "source": [
    "mlp.fit(X_train, y_train)"
   ]
  },
  {
   "cell_type": "code",
   "execution_count": 45,
   "id": "fae0d207",
   "metadata": {},
   "outputs": [],
   "source": [
    "mlp_pred = mlp.predict(X_test)"
   ]
  },
  {
   "cell_type": "code",
   "execution_count": 46,
   "id": "8362b224",
   "metadata": {},
   "outputs": [
    {
     "data": {
      "text/plain": [
       "0.4767060832816641"
      ]
     },
     "execution_count": 46,
     "metadata": {},
     "output_type": "execute_result"
    }
   ],
   "source": [
    "mlp.score(X_test, y_test)"
   ]
  },
  {
   "cell_type": "code",
   "execution_count": 47,
   "id": "b8ad4f3e",
   "metadata": {},
   "outputs": [
    {
     "data": {
      "text/plain": [
       "33.40708364329856"
      ]
     },
     "execution_count": 47,
     "metadata": {},
     "output_type": "execute_result"
    }
   ],
   "source": [
    "mean_squared_error(y_test, mlp_pred)"
   ]
  },
  {
   "cell_type": "code",
   "execution_count": 48,
   "id": "42c45376",
   "metadata": {},
   "outputs": [
    {
     "data": {
      "text/plain": [
       "4.180773366987425"
      ]
     },
     "execution_count": 48,
     "metadata": {},
     "output_type": "execute_result"
    }
   ],
   "source": [
    "mean_absolute_error(y_test, mlp_pred)"
   ]
  },
  {
   "cell_type": "code",
   "execution_count": 49,
   "id": "0d2d3c3a",
   "metadata": {},
   "outputs": [
    {
     "data": {
      "image/png": "[encoded data removed]",
      "text/plain": [
       "<Figure size 432x288 with 1 Axes>"
      ]
     },
     "metadata": {
      "needs_background": "light"
     },
     "output_type": "display_data"
    }
   ],
   "source": [
    "x_ax = range(len(y_test))\n",
    "plt.plot(x_ax, y_test, linewidth=1, label=\"original\")\n",
    "plt.plot(x_ax, mlp_pred, linewidth=1.1, label=\"predicted\")\n",
    "plt.title(\"y-test and y-predicted data\")\n",
    "plt.xlabel('X-axis')\n",
    "plt.ylabel('Y-axis')\n",
    "plt.legend(loc='best',fancybox=True, shadow=True)\n",
    "plt.grid(True)\n",
    "plt.show() "
   ]
  },
  {
   "cell_type": "code",
   "execution_count": 50,
   "id": "ba5c87c5",
   "metadata": {},
   "outputs": [
    {
     "data": {
      "text/plain": [
       "array([12.97842952])"
      ]
     },
     "execution_count": 50,
     "metadata": {},
     "output_type": "execute_result"
    }
   ],
   "source": [
    "mlp.predict(kansas)"
   ]
  },
  {
   "cell_type": "code",
   "execution_count": 51,
   "id": "945659db",
   "metadata": {},
   "outputs": [],
   "source": [
    "# Philadelphia Neural Network"
   ]
  },
  {
   "cell_type": "code",
   "execution_count": 52,
   "id": "fba652c6",
   "metadata": {},
   "outputs": [],
   "source": [
    "mlp1 = MLPRegressor(max_iter = 5000, random_state = 0, solver = 'lbfgs', activation = 'identity')"
   ]
  },
  {
   "cell_type": "code",
   "execution_count": 53,
   "id": "ca7bd4c9",
   "metadata": {},
   "outputs": [
    {
     "data": {
      "text/plain": [
       "MLPRegressor(activation='identity', max_iter=5000, random_state=0,\n",
       "             solver='lbfgs')"
      ]
     },
     "execution_count": 53,
     "metadata": {},
     "output_type": "execute_result"
    }
   ],
   "source": [
    "mlp1.fit(X1_train, y1_train)"
   ]
  },
  {
   "cell_type": "code",
   "execution_count": 54,
   "id": "f01e0455",
   "metadata": {},
   "outputs": [],
   "source": [
    "mlp1_pred = mlp1.predict(X1_test)"
   ]
  },
  {
   "cell_type": "code",
   "execution_count": 55,
   "id": "f0b8094b",
   "metadata": {},
   "outputs": [
    {
     "data": {
      "text/plain": [
       "0.5170005583354331"
      ]
     },
     "execution_count": 55,
     "metadata": {},
     "output_type": "execute_result"
    }
   ],
   "source": [
    "mlp1.score(X1_test, y1_test)"
   ]
  },
  {
   "cell_type": "code",
   "execution_count": 56,
   "id": "62881a47",
   "metadata": {},
   "outputs": [
    {
     "data": {
      "text/plain": [
       "33.52711644348091"
      ]
     },
     "execution_count": 56,
     "metadata": {},
     "output_type": "execute_result"
    }
   ],
   "source": [
    "mean_squared_error(y1_test, mlp1_pred)"
   ]
  },
  {
   "cell_type": "code",
   "execution_count": 57,
   "id": "7c48bc66",
   "metadata": {},
   "outputs": [
    {
     "data": {
      "text/plain": [
       "4.188209361442591"
      ]
     },
     "execution_count": 57,
     "metadata": {},
     "output_type": "execute_result"
    }
   ],
   "source": [
    "mean_absolute_error(y1_test, mlp1_pred)"
   ]
  },
  {
   "cell_type": "code",
   "execution_count": 58,
   "id": "c07a8c55",
   "metadata": {},
   "outputs": [
    {
     "data": {
      "image/png": "[encoded data removed]",
      "text/plain": [
       "<Figure size 432x288 with 1 Axes>"
      ]
     },
     "metadata": {
      "needs_background": "light"
     },
     "output_type": "display_data"
    }
   ],
   "source": [
    "x_ax = range(len(y_test))\n",
    "plt.plot(x_ax, y_test, linewidth=1, label=\"original\")\n",
    "plt.plot(x_ax, mlp1_pred, linewidth=1.1, label=\"predicted\")\n",
    "plt.title(\"y-test and y-predicted data\")\n",
    "plt.xlabel('X-axis')\n",
    "plt.ylabel('Y-axis')\n",
    "plt.legend(loc='best',fancybox=True, shadow=True)\n",
    "plt.grid(True)\n",
    "plt.show() "
   ]
  },
  {
   "cell_type": "code",
   "execution_count": 59,
   "id": "4a2dff4e",
   "metadata": {},
   "outputs": [
    {
     "data": {
      "text/plain": [
       "array([84.27310425])"
      ]
     },
     "execution_count": 59,
     "metadata": {},
     "output_type": "execute_result"
    }
   ],
   "source": [
    "mlp1.predict(phila)"
   ]
  },
  {
   "cell_type": "code",
   "execution_count": 60,
   "id": "df5757fe",
   "metadata": {},
   "outputs": [
    {
     "name": "stdout",
     "output_type": "stream",
     "text": [
      "Prediction for Kansas:  [12.97842952]\n",
      "R-squared:  0.4767060832816641\n"
     ]
    }
   ],
   "source": [
    "print(\"Prediction for Kansas: \", mlp.predict(kansas))\n",
    "print(\"R-squared: \", mlp.score(X_test, y_test))"
   ]
  },
  {
   "cell_type": "code",
   "execution_count": 61,
   "id": "7c84fd67",
   "metadata": {},
   "outputs": [
    {
     "name": "stdout",
     "output_type": "stream",
     "text": [
      "Prediction for Philadelphia:  [84.27310425]\n",
      "R-squared:  0.5170005583354331\n"
     ]
    }
   ],
   "source": [
    "print(\"Prediction for Philadelphia: \", mlp1.predict(phila))\n",
    "print(\"R-squared: \", mlp1.score(X1_test, y1_test))"
   ]
  },
  {
   "cell_type": "code",
   "execution_count": null,
   "id": "01f3f892",
   "metadata": {},
   "outputs": [],
   "source": [
    "# Kansas Neural Network Standardlized"
   ]
  },
  {
   "cell_type": "code",
   "execution_count": 62,
   "id": "00ec82c0",
   "metadata": {},
   "outputs": [],
   "source": [
    "from sklearn.preprocessing import StandardScaler"
   ]
  },
  {
   "cell_type": "code",
   "execution_count": 63,
   "id": "1a68bd55",
   "metadata": {},
   "outputs": [],
   "source": [
    "sc_X = StandardScaler()\n",
    "X_trainscaled = sc_X.fit_transform(X_train)\n",
    "X_testscaled = sc_X.transform(X_test)"
   ]
  },
  {
   "cell_type": "code",
   "execution_count": 71,
   "id": "9d6439dc",
   "metadata": {},
   "outputs": [],
   "source": [
    "X1_trainscaled = sc_X.fit_transform(X1_train)\n",
    "X1_testscaled = sc_X.transform(X1_test)"
   ]
  },
  {
   "cell_type": "code",
   "execution_count": 65,
   "id": "11af722b",
   "metadata": {},
   "outputs": [
    {
     "data": {
      "text/plain": [
       "MLPRegressor(activation='identity', max_iter=5000, random_state=0,\n",
       "             solver='lbfgs')"
      ]
     },
     "execution_count": 65,
     "metadata": {},
     "output_type": "execute_result"
    }
   ],
   "source": [
    "mlp2 = MLPRegressor(max_iter = 5000, random_state = 0, solver = 'lbfgs', activation = 'identity')\n",
    "mlp2.fit(X_trainscaled, y_train)"
   ]
  },
  {
   "cell_type": "code",
   "execution_count": 66,
   "id": "d8001d53",
   "metadata": {},
   "outputs": [],
   "source": [
    "mlp2_pred = mlp2.predict(X_testscaled)"
   ]
  },
  {
   "cell_type": "code",
   "execution_count": 67,
   "id": "e702fc7a",
   "metadata": {},
   "outputs": [
    {
     "data": {
      "text/plain": [
       "0.4870549549111999"
      ]
     },
     "execution_count": 67,
     "metadata": {},
     "output_type": "execute_result"
    }
   ],
   "source": [
    "mlp2.score(X_testscaled, y_test)"
   ]
  },
  {
   "cell_type": "code",
   "execution_count": 70,
   "id": "b7c53b42",
   "metadata": {},
   "outputs": [
    {
     "data": {
      "image/png": "[encoded data removed]",
      "text/plain": [
       "<Figure size 432x288 with 1 Axes>"
      ]
     },
     "metadata": {
      "needs_background": "light"
     },
     "output_type": "display_data"
    }
   ],
   "source": [
    "x_ax = range(len(y_test))\n",
    "plt.plot(x_ax, y_test, linewidth=1, label=\"original\")\n",
    "plt.plot(x_ax, mlp2_pred, linewidth=1.1, label=\"predicted\")\n",
    "plt.title(\"y-test and y-predicted data\")\n",
    "plt.xlabel('X-axis')\n",
    "plt.ylabel('Y-axis')\n",
    "plt.legend(loc='best',fancybox=True, shadow=True)\n",
    "plt.grid(True)\n",
    "plt.show() "
   ]
  },
  {
   "cell_type": "code",
   "execution_count": 68,
   "id": "598fcdef",
   "metadata": {},
   "outputs": [],
   "source": [
    "kansas_scaled = sc_X.transform(kansas)"
   ]
  },
  {
   "cell_type": "code",
   "execution_count": 69,
   "id": "85eb0d24",
   "metadata": {},
   "outputs": [
    {
     "data": {
      "text/plain": [
       "array([29.01860138])"
      ]
     },
     "execution_count": 69,
     "metadata": {},
     "output_type": "execute_result"
    }
   ],
   "source": [
    "mlp2.predict(kansas_scaled)"
   ]
  },
  {
   "cell_type": "code",
   "execution_count": null,
   "id": "200c9bfb",
   "metadata": {},
   "outputs": [],
   "source": [
    "# Philadelphia Neural Network Standardlized"
   ]
  },
  {
   "cell_type": "code",
   "execution_count": 72,
   "id": "af6c9552",
   "metadata": {},
   "outputs": [
    {
     "data": {
      "text/plain": [
       "MLPRegressor(activation='identity', max_iter=5000, random_state=0,\n",
       "             solver='lbfgs')"
      ]
     },
     "execution_count": 72,
     "metadata": {},
     "output_type": "execute_result"
    }
   ],
   "source": [
    "mlp3 = MLPRegressor(max_iter = 5000, random_state = 0, solver = 'lbfgs', activation = 'identity')\n",
    "mlp3.fit(X1_trainscaled, y1_train)"
   ]
  },
  {
   "cell_type": "code",
   "execution_count": 73,
   "id": "c80e3234",
   "metadata": {},
   "outputs": [],
   "source": [
    "mlp3_pred = mlp3.predict(X1_testscaled)"
   ]
  },
  {
   "cell_type": "code",
   "execution_count": 74,
   "id": "5e38db64",
   "metadata": {},
   "outputs": [
    {
     "data": {
      "text/plain": [
       "0.4307147061372678"
      ]
     },
     "execution_count": 74,
     "metadata": {},
     "output_type": "execute_result"
    }
   ],
   "source": [
    "mlp3.score(X1_testscaled, y1_test)"
   ]
  },
  {
   "cell_type": "code",
   "execution_count": 75,
   "id": "654f196e",
   "metadata": {},
   "outputs": [
    {
     "data": {
      "image/png": "[encoded data removed]",
      "text/plain": [
       "<Figure size 432x288 with 1 Axes>"
      ]
     },
     "metadata": {
      "needs_background": "light"
     },
     "output_type": "display_data"
    }
   ],
   "source": [
    "x_ax = range(len(y1_test))\n",
    "plt.plot(x_ax, y1_test, linewidth=1, label=\"original\")\n",
    "plt.plot(x_ax, mlp3_pred, linewidth=1.1, label=\"predicted\")\n",
    "plt.title(\"y-test and y-predicted data\")\n",
    "plt.xlabel('X-axis')\n",
    "plt.ylabel('Y-axis')\n",
    "plt.legend(loc='best',fancybox=True, shadow=True)\n",
    "plt.grid(True)\n",
    "plt.show() "
   ]
  },
  {
   "cell_type": "code",
   "execution_count": 76,
   "id": "9ef2feb6",
   "metadata": {},
   "outputs": [],
   "source": [
    "phila_scaled = sc_X.transform(phila)"
   ]
  },
  {
   "cell_type": "code",
   "execution_count": 77,
   "id": "42b009bc",
   "metadata": {},
   "outputs": [
    {
     "data": {
      "text/plain": [
       "array([27.33256212])"
      ]
     },
     "execution_count": 77,
     "metadata": {},
     "output_type": "execute_result"
    }
   ],
   "source": [
    "mlp3.predict(phila_scaled)"
   ]
  },
  {
   "cell_type": "code",
   "execution_count": 80,
   "id": "6760e6db",
   "metadata": {},
   "outputs": [
    {
     "name": "stdout",
     "output_type": "stream",
     "text": [
      "Prediction for Kansas:  [29.01860138]\n",
      "R-squared:  0.4870549549111999\n",
      "MSE:  32.746411678469\n",
      "MAPE:  0.14716599799121732\n"
     ]
    }
   ],
   "source": [
    "print(\"Prediction for Kansas: \", mlp2.predict(kansas_scaled))\n",
    "print(\"R-squared: \", mlp2.score(X_testscaled, y_test))\n",
    "print(\"MSE: \", mean_squared_error(y_test, mlp2_pred))\n",
    "print(\"MAPE: \", mean_absolute_percentage_error(y_test, mlp2_pred))"
   ]
  },
  {
   "cell_type": "code",
   "execution_count": 81,
   "id": "37b39b77",
   "metadata": {},
   "outputs": [
    {
     "name": "stdout",
     "output_type": "stream",
     "text": [
      "Prediction for Philadelphia:  [27.33256212]\n",
      "R-squared:  0.4307147061372678\n",
      "MSE:  39.516597102305234\n",
      "MAPE:  0.2422498672209602\n"
     ]
    }
   ],
   "source": [
    "print(\"Prediction for Philadelphia: \", mlp3.predict(phila_scaled))\n",
    "print(\"R-squared: \", mlp3.score(X1_testscaled, y1_test))\n",
    "print(\"MSE: \", mean_squared_error(y1_test, mlp3_pred))\n",
    "print(\"MAPE: \", mean_absolute_percentage_error(y1_test, mlp3_pred))"
   ]
  },
  {
   "cell_type": "code",
   "execution_count": null,
   "id": "22399a57",
   "metadata": {},
   "outputs": [],
   "source": [
    "# Kansas GB"
   ]
  },
  {
   "cell_type": "code",
   "execution_count": 83,
   "id": "719cec27",
   "metadata": {},
   "outputs": [],
   "source": [
    "from sklearn.ensemble import GradientBoostingRegressor"
   ]
  },
  {
   "cell_type": "code",
   "execution_count": 84,
   "id": "fb7b0cd0",
   "metadata": {},
   "outputs": [],
   "source": [
    "gb = GradientBoostingRegressor(n_estimators = 2000, random_state = 0)"
   ]
  },
  {
   "cell_type": "code",
   "execution_count": 85,
   "id": "dbdba217",
   "metadata": {},
   "outputs": [
    {
     "data": {
      "text/plain": [
       "GradientBoostingRegressor(n_estimators=2000, random_state=0)"
      ]
     },
     "execution_count": 85,
     "metadata": {},
     "output_type": "execute_result"
    }
   ],
   "source": [
    "gb.fit(X_trainscaled, y_train)"
   ]
  },
  {
   "cell_type": "code",
   "execution_count": 86,
   "id": "ad356bbc",
   "metadata": {},
   "outputs": [],
   "source": [
    "gb_pred = gb.predict(X_testscaled)"
   ]
  },
  {
   "cell_type": "code",
   "execution_count": 87,
   "id": "d04544f9",
   "metadata": {},
   "outputs": [
    {
     "data": {
      "text/plain": [
       "0.3613953070954068"
      ]
     },
     "execution_count": 87,
     "metadata": {},
     "output_type": "execute_result"
    }
   ],
   "source": [
    "gb.score(X_testscaled, y_test)"
   ]
  },
  {
   "cell_type": "code",
   "execution_count": 88,
   "id": "c99061f2",
   "metadata": {},
   "outputs": [
    {
     "data": {
      "image/png": "[encoded data removed]",
      "text/plain": [
       "<Figure size 432x288 with 1 Axes>"
      ]
     },
     "metadata": {
      "needs_background": "light"
     },
     "output_type": "display_data"
    }
   ],
   "source": [
    "x_ax = range(len(y_test))\n",
    "plt.plot(x_ax, y_test, linewidth=1, label=\"original\")\n",
    "plt.plot(x_ax, gb_pred, linewidth=1.1, label=\"predicted\")\n",
    "plt.title(\"y-test and y-predicted data\")\n",
    "plt.xlabel('X-axis')\n",
    "plt.ylabel('Y-axis')\n",
    "plt.legend(loc='best',fancybox=True, shadow=True)\n",
    "plt.grid(True)\n",
    "plt.show() "
   ]
  },
  {
   "cell_type": "code",
   "execution_count": 89,
   "id": "eab5525b",
   "metadata": {},
   "outputs": [
    {
     "data": {
      "text/plain": [
       "array([27.53006262])"
      ]
     },
     "execution_count": 89,
     "metadata": {},
     "output_type": "execute_result"
    }
   ],
   "source": [
    "gb.predict(kansas_scaled)"
   ]
  },
  {
   "cell_type": "code",
   "execution_count": 90,
   "id": "d4038718",
   "metadata": {},
   "outputs": [],
   "source": [
    "# Philadelphia GB"
   ]
  },
  {
   "cell_type": "code",
   "execution_count": 91,
   "id": "fddb8a2f",
   "metadata": {},
   "outputs": [],
   "source": [
    "gb1 = GradientBoostingRegressor(n_estimators = 2000, random_state = 0)"
   ]
  },
  {
   "cell_type": "code",
   "execution_count": 92,
   "id": "6e3e1567",
   "metadata": {},
   "outputs": [
    {
     "data": {
      "text/plain": [
       "GradientBoostingRegressor(n_estimators=2000, random_state=0)"
      ]
     },
     "execution_count": 92,
     "metadata": {},
     "output_type": "execute_result"
    }
   ],
   "source": [
    "gb1.fit(X1_trainscaled, y1_train)"
   ]
  },
  {
   "cell_type": "code",
   "execution_count": 93,
   "id": "a2b9c6d0",
   "metadata": {},
   "outputs": [],
   "source": [
    "gb1_pred = gb1.predict(X1_testscaled)"
   ]
  },
  {
   "cell_type": "code",
   "execution_count": 94,
   "id": "7a4d6d7f",
   "metadata": {},
   "outputs": [
    {
     "data": {
      "text/plain": [
       "0.23941197918136992"
      ]
     },
     "execution_count": 94,
     "metadata": {},
     "output_type": "execute_result"
    }
   ],
   "source": [
    "gb1.score(X1_testscaled, y1_test)"
   ]
  },
  {
   "cell_type": "code",
   "execution_count": 95,
   "id": "c8ea3780",
   "metadata": {},
   "outputs": [
    {
     "data": {
      "image/png": "[encoded data removed]",
      "text/plain": [
       "<Figure size 432x288 with 1 Axes>"
      ]
     },
     "metadata": {
      "needs_background": "light"
     },
     "output_type": "display_data"
    }
   ],
   "source": [
    "x_ax = range(len(y1_test))\n",
    "plt.plot(x_ax, y1_test, linewidth=1, label=\"original\")\n",
    "plt.plot(x_ax, gb1_pred, linewidth=1.1, label=\"predicted\")\n",
    "plt.title(\"y-test and y-predicted data\")\n",
    "plt.xlabel('X-axis')\n",
    "plt.ylabel('Y-axis')\n",
    "plt.legend(loc='best',fancybox=True, shadow=True)\n",
    "plt.grid(True)\n",
    "plt.show()"
   ]
  },
  {
   "cell_type": "code",
   "execution_count": 96,
   "id": "854292e8",
   "metadata": {},
   "outputs": [
    {
     "data": {
      "text/plain": [
       "array([26.69206324])"
      ]
     },
     "execution_count": 96,
     "metadata": {},
     "output_type": "execute_result"
    }
   ],
   "source": [
    "gb1.predict(phila_scaled)"
   ]
  },
  {
   "cell_type": "code",
   "execution_count": 97,
   "id": "f1ccb4f2",
   "metadata": {},
   "outputs": [
    {
     "name": "stdout",
     "output_type": "stream",
     "text": [
      "Prediction for Kansas:  [27.53006262]\n",
      "R-squared:  0.3613953070954068\n",
      "MSE:  40.76852359502923\n",
      "MAPE:  0.1776817107400922\n"
     ]
    }
   ],
   "source": [
    "print(\"Prediction for Kansas: \", gb.predict(kansas_scaled))\n",
    "print(\"R-squared: \", gb.score(X_testscaled, y_test))\n",
    "print(\"MSE: \", mean_squared_error(y_test, gb_pred))\n",
    "print(\"MAPE: \", mean_absolute_percentage_error(y_test, gb_pred))"
   ]
  },
  {
   "cell_type": "code",
   "execution_count": 98,
   "id": "146ea329",
   "metadata": {},
   "outputs": [
    {
     "name": "stdout",
     "output_type": "stream",
     "text": [
      "Prediction for Philadelphia:  [26.69206324]\n",
      "R-squared:  0.23941197918136992\n",
      "MSE:  52.79576111231271\n",
      "MAPE:  0.32625588186914023\n"
     ]
    }
   ],
   "source": [
    "print(\"Prediction for Philadelphia: \", gb1.predict(phila_scaled))\n",
    "print(\"R-squared: \", gb1.score(X1_testscaled, y1_test))\n",
    "print(\"MSE: \", mean_squared_error(y1_test, gb1_pred))\n",
    "print(\"MAPE: \", mean_absolute_percentage_error(y1_test, gb1_pred))"
   ]
  },
  {
   "cell_type": "markdown",
   "id": "bcea47de",
   "metadata": {},
   "source": [
    "Using Data from 2018-2022:\\\n",
    "Using Random Forest Regressor:\\\n",
    "    Prediction for Kansas: 28\\\n",
    "        R-squared:  0.24\\\n",
    "        MSE:  48.69\\\n",
    "        MAPE:  0.19\\\n",
    "    Prediction for Philadelphia: 24\\\n",
    "        R-squared:  0.28\\\n",
    "        MSE:  50.88\\\n",
    "        MAPE:  0.36\\\n",
    "        \\\n",
    "Using Neural Network:\\\n",
    "    Prediction for Kansas: 29\\\n",
    "        R-squared:  0.49\\\n",
    "        MSE:  32.75\\\n",
    "        MAPE:  0.15\\\n",
    "    Prediction for Philadelphia: 27\\\n",
    "        R-squared:  0.43\\\n",
    "        MSE:  39.52\\\n",
    "        MAPE:  0.24\\\n",
    "        \\\n",
    "Using Gradient Boosting:\\\n",
    "    Prediction for Kansas: 28\\\n",
    "        R-squared:  0.36\\\n",
    "        MSE:  40.77\\\n",
    "        MAPE:  0.18\\\n",
    "    Prediction for Philadelphia: 27\\\n",
    "        R-squared:  0.24\\\n",
    "        MSE:  52.8\\\n",
    "        MAPE:  0.33\\\n",
    "\\\n",
    "Using 2022 Data:\\\n",
    "Prediction for Kansas: 28\\\n",
    "Prediction for Philadelphia: 38\\\n",
    "\\\n",
    "Data from 2022 shows that Eagles are performing better this season, and previous data shows that the score between two teams would be close.\\\n",
    "As a result, Chiefs: 28, and Eagles: 29 would be my prediction."
   ]
  }
 ],
 "metadata": {
  "kernelspec": {
   "display_name": "Python 3",
   "language": "python",
   "name": "python3"
  },
  "language_info": {
   "codemirror_mode": {
    "name": "ipython",
    "version": 3
   },
   "file_extension": ".py",
   "mimetype": "text/x-python",
   "name": "python",
   "nbconvert_exporter": "python",
   "pygments_lexer": "ipython3",
   "version": "3.8.2"
  }
 },
 "nbformat": 4,
 "nbformat_minor": 5
}
